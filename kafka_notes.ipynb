{
 "cells": [
  {
   "cell_type": "markdown",
   "id": "6258d58d",
   "metadata": {},
   "source": []
  },
  {
   "cell_type": "markdown",
   "id": "8cab7317",
   "metadata": {},
   "source": [
    "# Approaches to send messages to broker"
   ]
  },
  {
   "cell_type": "markdown",
   "id": "45507b20",
   "metadata": {},
   "source": [
    "## 1) Fire and forget\n",
    "- **Profile**: We do not wait for response\n",
    "- **Usage**: Cases when it is okay if we loose somw messages(3-5%. Don't use it if we cannot loose any messages\n",
    "- **Drawbacks**: Loose of messages and less control over the flow"
   ]
  },
  {
   "cell_type": "markdown",
   "id": "dd761ed3",
   "metadata": {},
   "source": [
    "## 2) Synchronous send\n",
    "- **Profile)**: We are waiting for response from Kafka. If we get success then it returns record_metadata, otherwise we get an exception\n",
    "- **Usage**: When all the messages are critical and we cannot afford to loose anything\n",
    "- **Drawbacks**: It slows down the program because we need to wait for the response(acknowledgement)"
   ]
  },
  {
   "cell_type": "markdown",
   "id": "48d3e0d0",
   "metadata": {},
   "source": [
    "## 3) Asynchronous send\n",
    "- **Profile)**: We don't wait for success or failure. We use callbacks functions\n",
    "- **Usage**: When we need fast sending and at the same time exception handling\n",
    "- **Drawbacks**: We have limited max.in.flight requests(the amount of messages we can send to kafka without receiving responses)"
   ]
  },
  {
   "cell_type": "markdown",
   "id": "22ce847a",
   "metadata": {},
   "source": [
    "# Partitioner"
   ]
  },
  {
   "cell_type": "markdown",
   "id": "1b05220e",
   "metadata": {},
   "source": [
    "Default partitioner\n",
    "- If a partition is specified use it\n",
    "- if no partition is specified but a key is present choose a partition based on a hash of the key\n",
    "- If no partition or key is present choose a partition in a round-robin fashion"
   ]
  },
  {
   "cell_type": "markdown",
   "id": "fc7784ab",
   "metadata": {},
   "source": [
    "Do not use key for partitioning because different key-value pairs can end up in the same partition"
   ]
  },
  {
   "cell_type": "markdown",
   "id": "15fafe8e",
   "metadata": {},
   "source": [
    "# Serializer"
   ]
  },
  {
   "cell_type": "markdown",
   "id": "c3e39226",
   "metadata": {},
   "source": [
    "### Definition: \n",
    "Transfering a data structure to a series of bytes"
   ]
  },
  {
   "cell_type": "markdown",
   "id": "eb4c2742",
   "metadata": {},
   "source": [
    "### Example - Serialize & Deserialize\n",
    "- Create a Customer class\n",
    "- Create a producer\n",
    "- Create a serializer\n",
    "- Create a deserializer\n",
    "- Create a consumer"
   ]
  },
  {
   "cell_type": "markdown",
   "id": "d3e8ccf0",
   "metadata": {},
   "source": []
  }
 ],
 "metadata": {
  "kernelspec": {
   "display_name": "Python 3 (ipykernel)",
   "language": "python",
   "name": "python3"
  },
  "language_info": {
   "codemirror_mode": {
    "name": "ipython",
    "version": 3
   },
   "file_extension": ".py",
   "mimetype": "text/x-python",
   "name": "python",
   "nbconvert_exporter": "python",
   "pygments_lexer": "ipython3",
   "version": "3.9.12"
  }
 },
 "nbformat": 4,
 "nbformat_minor": 5
}
