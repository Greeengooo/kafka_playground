{
 "cells": [
  {
   "cell_type": "markdown",
   "id": "8cab7317",
   "metadata": {},
   "source": [
    "# Approaches to send messages to broker"
   ]
  },
  {
   "cell_type": "markdown",
   "id": "45507b20",
   "metadata": {},
   "source": [
    "## 1) Fire and forget\n",
    "- **Profile**: We do not wait for response\n",
    "- **Usage**: Cases when it is okay if we loose somw messages(3-5%. Don't use it if we cannot loose any messages\n",
    "- **Drawbacks**: Loose of messages and less control over the flow"
   ]
  },
  {
   "cell_type": "markdown",
   "id": "dd761ed3",
   "metadata": {},
   "source": [
    "## 2) Synchronous send\n",
    "- **Profile)**: We are waiting for response from Kafka. If we get success then it returns record_metadata, otherwise we get an exception\n",
    "- **Usage**: When all the messages are critical and we cannot afford to loose anything\n",
    "- **Drawbacks**: It slows down the program because we need to wait for the response(acknowledgement)"
   ]
  },
  {
   "cell_type": "markdown",
   "id": "48d3e0d0",
   "metadata": {},
   "source": [
    "## 3) Asynchronous send\n",
    "- **Profile)**: We don't wait for success or failure. We use callbacks functions\n",
    "- **Usage**: When we need fast sending and at the same time exception handling\n",
    "- **Drawbacks**: We have limited max.in.flight requests(the amount of messages we can send to kafka without receiving responses)"
   ]
  },
  {
   "cell_type": "code",
   "execution_count": null,
   "id": "8fd51c72",
   "metadata": {},
   "outputs": [],
   "source": []
  }
 ],
 "metadata": {
  "kernelspec": {
   "display_name": "Python 3 (ipykernel)",
   "language": "python",
   "name": "python3"
  },
  "language_info": {
   "codemirror_mode": {
    "name": "ipython",
    "version": 3
   },
   "file_extension": ".py",
   "mimetype": "text/x-python",
   "name": "python",
   "nbconvert_exporter": "python",
   "pygments_lexer": "ipython3",
   "version": "3.9.12"
  }
 },
 "nbformat": 4,
 "nbformat_minor": 5
}
